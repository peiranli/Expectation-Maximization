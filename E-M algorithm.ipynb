{
 "cells": [
  {
   "cell_type": "code",
   "execution_count": 31,
   "metadata": {},
   "outputs": [],
   "source": [
    "import math"
   ]
  },
  {
   "cell_type": "code",
   "execution_count": 32,
   "metadata": {},
   "outputs": [],
   "source": [
    "X = [1,2,3,8,10]\n",
    "n = 5"
   ]
  },
  {
   "cell_type": "code",
   "execution_count": 33,
   "metadata": {},
   "outputs": [],
   "source": [
    "params = [0.5, 4, 6, 1.5, 1]"
   ]
  },
  {
   "cell_type": "code",
   "execution_count": 34,
   "metadata": {},
   "outputs": [],
   "source": [
    "def prob(x, mu, sigma):\n",
    "    return (2*math.pi*(sigma**2))**(-0.5)*math.exp((0-(x-mu)**2)/(2*(sigma**2)))"
   ]
  },
  {
   "cell_type": "code",
   "execution_count": 35,
   "metadata": {},
   "outputs": [],
   "source": [
    "def expectation(xi, p, mu1, mu0, sigma1, sigma0):\n",
    "    part1 = p*prob(xi,mu1,sigma1)\n",
    "    part0 = (1-p)*prob(xi,mu0,sigma0)\n",
    "    gamma1i = part1 / (part1+part0)\n",
    "    gamma0i = part0 / (part1+part0)\n",
    "    return [gamma1i, gamma0i]"
   ]
  },
  {
   "cell_type": "code",
   "execution_count": 36,
   "metadata": {},
   "outputs": [],
   "source": [
    "def maximization(X, gamma1, gamma0):\n",
    "    p = sum(gamma1) / n\n",
    "    mu1 = (1/(sum(gamma1))) * sum([gamma1[i]*X[i] for i in range(n)])\n",
    "    mu0 = (1/(sum(gamma0))) * sum([gamma0[i]*X[i] for i in range(n)])\n",
    "    sigma1 = ( (1/(sum(gamma1))) * sum([gamma1[i]*(X[i]-mu1)**2 for i in range(n)]) )**(1/2)\n",
    "    sigma0 = ( (1/(sum(gamma0))) * sum([gamma0[i]*(X[i]-mu0)**2 for i in range(n)]) )**(1/2)\n",
    "    return [p, mu1, mu0, sigma1, sigma0]"
   ]
  },
  {
   "cell_type": "code",
   "execution_count": 37,
   "metadata": {},
   "outputs": [],
   "source": [
    "def distance(old_params, new_params):\n",
    "    dist = 0\n",
    "    for i in range(len(old_params)):\n",
    "        dist += (old_params[i] - new_params[i]) ** 2\n",
    "    return dist ** 0.5\n"
   ]
  },
  {
   "cell_type": "code",
   "execution_count": 38,
   "metadata": {},
   "outputs": [
    {
     "name": "stdout",
     "output_type": "stream",
     "text": [
      "[0.7003413782352246, 3.1193955571779055, 8.727792315210541, 2.8091249681136228, 1.2012567873923237]\n",
      "[0.657992551653717, 2.5775918853904836, 9.075719704990847, 2.03222793594108, 0.9972503619521843]\n",
      "[0.6095376659824682, 2.095089703344332, 9.02254482769499, 1.107869417660025, 0.9997459177284798]\n",
      "[0.60000031962408, 2.000003218043923, 9.000000766353555, 0.8165082006035064, 1.0000001144258601]\n",
      "[0.5999999964886424, 1.9999999941613975, 8.99999994730915, 0.8164965797763861, 1.0000001537123344]\n",
      "[0.5999999964886424, 1.9999999941613975, 8.99999994730915, 0.8164965797763861, 1.0000001537123344]\n"
     ]
    }
   ],
   "source": [
    "converged = False\n",
    "i = 0\n",
    "while not converged:\n",
    "    p = params[0]\n",
    "    mu1 = params[1]\n",
    "    mu0 = params[2]\n",
    "    sigma1 = params[3]\n",
    "    sigma0 = params[4]\n",
    "    gamma1 = [expectation(xi, p, mu1, mu0, sigma1, sigma0)[0] for xi in X]\n",
    "    gamma0 = [expectation(xi, p, mu1, mu0, sigma1, sigma0)[1] for xi in X]\n",
    "    old_params = params[:]\n",
    "    params = maximization(X, gamma1, gamma0)\n",
    "    l2distance = distance(old_params, params)\n",
    "    print(params)\n",
    "    if l2distance <= 0.001:\n",
    "        converged = True    \n",
    "print(params) "
   ]
  },
  {
   "cell_type": "code",
   "execution_count": null,
   "metadata": {},
   "outputs": [],
   "source": []
  }
 ],
 "metadata": {
  "kernelspec": {
   "display_name": "Python 3",
   "language": "python",
   "name": "python3"
  },
  "language_info": {
   "codemirror_mode": {
    "name": "ipython",
    "version": 3
   },
   "file_extension": ".py",
   "mimetype": "text/x-python",
   "name": "python",
   "nbconvert_exporter": "python",
   "pygments_lexer": "ipython3",
   "version": "3.6.4"
  }
 },
 "nbformat": 4,
 "nbformat_minor": 2
}
